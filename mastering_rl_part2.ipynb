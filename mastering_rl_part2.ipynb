{
  "nbformat": 4,
  "nbformat_minor": 0,
  "metadata": {
    "colab": {
      "provenance": [],
      "gpuType": "T4",
      "authorship_tag": "ABX9TyOpCDr/Oqo7l70Uat8sTbyc",
      "include_colab_link": true
    },
    "kernelspec": {
      "name": "python3",
      "display_name": "Python 3"
    },
    "language_info": {
      "name": "python"
    },
    "accelerator": "GPU",
    "widgets": {
      "application/vnd.jupyter.widget-state+json": {
        "7875753aea854cdba65e5a7132c32881": {
          "model_module": "@jupyter-widgets/controls",
          "model_name": "HBoxModel",
          "model_module_version": "1.5.0",
          "state": {
            "_dom_classes": [],
            "_model_module": "@jupyter-widgets/controls",
            "_model_module_version": "1.5.0",
            "_model_name": "HBoxModel",
            "_view_count": null,
            "_view_module": "@jupyter-widgets/controls",
            "_view_module_version": "1.5.0",
            "_view_name": "HBoxView",
            "box_style": "",
            "children": [
              "IPY_MODEL_d091b065b9624280b784a426420d3423",
              "IPY_MODEL_cedd60b7133a468099e710c62cf6998f",
              "IPY_MODEL_be8dc488b2674997a64627dff6a61d2a"
            ],
            "layout": "IPY_MODEL_26ee1b6ea8db42d1a8161cea9a096150"
          }
        },
        "d091b065b9624280b784a426420d3423": {
          "model_module": "@jupyter-widgets/controls",
          "model_name": "HTMLModel",
          "model_module_version": "1.5.0",
          "state": {
            "_dom_classes": [],
            "_model_module": "@jupyter-widgets/controls",
            "_model_module_version": "1.5.0",
            "_model_name": "HTMLModel",
            "_view_count": null,
            "_view_module": "@jupyter-widgets/controls",
            "_view_module_version": "1.5.0",
            "_view_name": "HTMLView",
            "description": "",
            "description_tooltip": null,
            "layout": "IPY_MODEL_6e59f3692d1a4bf8bfe5b3469a145ce7",
            "placeholder": "​",
            "style": "IPY_MODEL_44e71494a79c42b3b50b7b5daadf6cc3",
            "value": "100%"
          }
        },
        "cedd60b7133a468099e710c62cf6998f": {
          "model_module": "@jupyter-widgets/controls",
          "model_name": "FloatProgressModel",
          "model_module_version": "1.5.0",
          "state": {
            "_dom_classes": [],
            "_model_module": "@jupyter-widgets/controls",
            "_model_module_version": "1.5.0",
            "_model_name": "FloatProgressModel",
            "_view_count": null,
            "_view_module": "@jupyter-widgets/controls",
            "_view_module_version": "1.5.0",
            "_view_name": "ProgressView",
            "bar_style": "success",
            "description": "",
            "description_tooltip": null,
            "layout": "IPY_MODEL_81d112dea6fc48778aca957affd8a4ef",
            "max": 500,
            "min": 0,
            "orientation": "horizontal",
            "style": "IPY_MODEL_a805eef23b2346f5b799841a7535aa1b",
            "value": 500
          }
        },
        "be8dc488b2674997a64627dff6a61d2a": {
          "model_module": "@jupyter-widgets/controls",
          "model_name": "HTMLModel",
          "model_module_version": "1.5.0",
          "state": {
            "_dom_classes": [],
            "_model_module": "@jupyter-widgets/controls",
            "_model_module_version": "1.5.0",
            "_model_name": "HTMLModel",
            "_view_count": null,
            "_view_module": "@jupyter-widgets/controls",
            "_view_module_version": "1.5.0",
            "_view_name": "HTMLView",
            "description": "",
            "description_tooltip": null,
            "layout": "IPY_MODEL_0d0e4b6e23d043658c24b2a6a03b79b2",
            "placeholder": "​",
            "style": "IPY_MODEL_41c1ad13554341bea345f7bd52b2d6ff",
            "value": " 500/500 [06:25&lt;00:00,  1.30it/s]"
          }
        },
        "26ee1b6ea8db42d1a8161cea9a096150": {
          "model_module": "@jupyter-widgets/base",
          "model_name": "LayoutModel",
          "model_module_version": "1.2.0",
          "state": {
            "_model_module": "@jupyter-widgets/base",
            "_model_module_version": "1.2.0",
            "_model_name": "LayoutModel",
            "_view_count": null,
            "_view_module": "@jupyter-widgets/base",
            "_view_module_version": "1.2.0",
            "_view_name": "LayoutView",
            "align_content": null,
            "align_items": null,
            "align_self": null,
            "border": null,
            "bottom": null,
            "display": null,
            "flex": null,
            "flex_flow": null,
            "grid_area": null,
            "grid_auto_columns": null,
            "grid_auto_flow": null,
            "grid_auto_rows": null,
            "grid_column": null,
            "grid_gap": null,
            "grid_row": null,
            "grid_template_areas": null,
            "grid_template_columns": null,
            "grid_template_rows": null,
            "height": null,
            "justify_content": null,
            "justify_items": null,
            "left": null,
            "margin": null,
            "max_height": null,
            "max_width": null,
            "min_height": null,
            "min_width": null,
            "object_fit": null,
            "object_position": null,
            "order": null,
            "overflow": null,
            "overflow_x": null,
            "overflow_y": null,
            "padding": null,
            "right": null,
            "top": null,
            "visibility": null,
            "width": null
          }
        },
        "6e59f3692d1a4bf8bfe5b3469a145ce7": {
          "model_module": "@jupyter-widgets/base",
          "model_name": "LayoutModel",
          "model_module_version": "1.2.0",
          "state": {
            "_model_module": "@jupyter-widgets/base",
            "_model_module_version": "1.2.0",
            "_model_name": "LayoutModel",
            "_view_count": null,
            "_view_module": "@jupyter-widgets/base",
            "_view_module_version": "1.2.0",
            "_view_name": "LayoutView",
            "align_content": null,
            "align_items": null,
            "align_self": null,
            "border": null,
            "bottom": null,
            "display": null,
            "flex": null,
            "flex_flow": null,
            "grid_area": null,
            "grid_auto_columns": null,
            "grid_auto_flow": null,
            "grid_auto_rows": null,
            "grid_column": null,
            "grid_gap": null,
            "grid_row": null,
            "grid_template_areas": null,
            "grid_template_columns": null,
            "grid_template_rows": null,
            "height": null,
            "justify_content": null,
            "justify_items": null,
            "left": null,
            "margin": null,
            "max_height": null,
            "max_width": null,
            "min_height": null,
            "min_width": null,
            "object_fit": null,
            "object_position": null,
            "order": null,
            "overflow": null,
            "overflow_x": null,
            "overflow_y": null,
            "padding": null,
            "right": null,
            "top": null,
            "visibility": null,
            "width": null
          }
        },
        "44e71494a79c42b3b50b7b5daadf6cc3": {
          "model_module": "@jupyter-widgets/controls",
          "model_name": "DescriptionStyleModel",
          "model_module_version": "1.5.0",
          "state": {
            "_model_module": "@jupyter-widgets/controls",
            "_model_module_version": "1.5.0",
            "_model_name": "DescriptionStyleModel",
            "_view_count": null,
            "_view_module": "@jupyter-widgets/base",
            "_view_module_version": "1.2.0",
            "_view_name": "StyleView",
            "description_width": ""
          }
        },
        "81d112dea6fc48778aca957affd8a4ef": {
          "model_module": "@jupyter-widgets/base",
          "model_name": "LayoutModel",
          "model_module_version": "1.2.0",
          "state": {
            "_model_module": "@jupyter-widgets/base",
            "_model_module_version": "1.2.0",
            "_model_name": "LayoutModel",
            "_view_count": null,
            "_view_module": "@jupyter-widgets/base",
            "_view_module_version": "1.2.0",
            "_view_name": "LayoutView",
            "align_content": null,
            "align_items": null,
            "align_self": null,
            "border": null,
            "bottom": null,
            "display": null,
            "flex": null,
            "flex_flow": null,
            "grid_area": null,
            "grid_auto_columns": null,
            "grid_auto_flow": null,
            "grid_auto_rows": null,
            "grid_column": null,
            "grid_gap": null,
            "grid_row": null,
            "grid_template_areas": null,
            "grid_template_columns": null,
            "grid_template_rows": null,
            "height": null,
            "justify_content": null,
            "justify_items": null,
            "left": null,
            "margin": null,
            "max_height": null,
            "max_width": null,
            "min_height": null,
            "min_width": null,
            "object_fit": null,
            "object_position": null,
            "order": null,
            "overflow": null,
            "overflow_x": null,
            "overflow_y": null,
            "padding": null,
            "right": null,
            "top": null,
            "visibility": null,
            "width": null
          }
        },
        "a805eef23b2346f5b799841a7535aa1b": {
          "model_module": "@jupyter-widgets/controls",
          "model_name": "ProgressStyleModel",
          "model_module_version": "1.5.0",
          "state": {
            "_model_module": "@jupyter-widgets/controls",
            "_model_module_version": "1.5.0",
            "_model_name": "ProgressStyleModel",
            "_view_count": null,
            "_view_module": "@jupyter-widgets/base",
            "_view_module_version": "1.2.0",
            "_view_name": "StyleView",
            "bar_color": null,
            "description_width": ""
          }
        },
        "0d0e4b6e23d043658c24b2a6a03b79b2": {
          "model_module": "@jupyter-widgets/base",
          "model_name": "LayoutModel",
          "model_module_version": "1.2.0",
          "state": {
            "_model_module": "@jupyter-widgets/base",
            "_model_module_version": "1.2.0",
            "_model_name": "LayoutModel",
            "_view_count": null,
            "_view_module": "@jupyter-widgets/base",
            "_view_module_version": "1.2.0",
            "_view_name": "LayoutView",
            "align_content": null,
            "align_items": null,
            "align_self": null,
            "border": null,
            "bottom": null,
            "display": null,
            "flex": null,
            "flex_flow": null,
            "grid_area": null,
            "grid_auto_columns": null,
            "grid_auto_flow": null,
            "grid_auto_rows": null,
            "grid_column": null,
            "grid_gap": null,
            "grid_row": null,
            "grid_template_areas": null,
            "grid_template_columns": null,
            "grid_template_rows": null,
            "height": null,
            "justify_content": null,
            "justify_items": null,
            "left": null,
            "margin": null,
            "max_height": null,
            "max_width": null,
            "min_height": null,
            "min_width": null,
            "object_fit": null,
            "object_position": null,
            "order": null,
            "overflow": null,
            "overflow_x": null,
            "overflow_y": null,
            "padding": null,
            "right": null,
            "top": null,
            "visibility": null,
            "width": null
          }
        },
        "41c1ad13554341bea345f7bd52b2d6ff": {
          "model_module": "@jupyter-widgets/controls",
          "model_name": "DescriptionStyleModel",
          "model_module_version": "1.5.0",
          "state": {
            "_model_module": "@jupyter-widgets/controls",
            "_model_module_version": "1.5.0",
            "_model_name": "DescriptionStyleModel",
            "_view_count": null,
            "_view_module": "@jupyter-widgets/base",
            "_view_module_version": "1.2.0",
            "_view_name": "StyleView",
            "description_width": ""
          }
        }
      }
    }
  },
  "cells": [
    {
      "cell_type": "markdown",
      "metadata": {
        "id": "view-in-github",
        "colab_type": "text"
      },
      "source": [
        "<a href=\"https://colab.research.google.com/github/danplotkin/mastering_rl/blob/main/mastering_rl_part2.ipynb\" target=\"_parent\"><img src=\"https://colab.research.google.com/assets/colab-badge.svg\" alt=\"Open In Colab\"/></a>"
      ]
    },
    {
      "cell_type": "markdown",
      "source": [
        "# Mastering Reinforcement Learning: Theory, Math, and Python\n",
        ">  _**Part II: Implementing Reiforcement Learning in Python**_\n",
        "\n",
        "> *Author:  Daniel M. Plotkin*\n",
        "\n",
        "> *Author Email: danmplotkin@gmail.com*\n",
        "\n",
        "> *Last Updated: 1/13/2024*\n",
        "\n",
        "> **[Click to Access Course Homepage](https://github.com/danplotkin/mastering_rl?tab=readme-ov-file#understanding-reinforcement-learning)**"
      ],
      "metadata": {
        "id": "D7MsrzHjdsbW"
      }
    },
    {
      "cell_type": "markdown",
      "source": [
        "# Table of Contents"
      ],
      "metadata": {
        "id": "VKrTooqGe8Y4"
      }
    },
    {
      "cell_type": "markdown",
      "source": [
        ">[Mastering Reinforcement Learning: Theory, Math, and Python](#folderId=1f4HcgYX5w3A2WnXtuemcRsNKbkm4QvvJ&updateTitle=true&scrollTo=D7MsrzHjdsbW)\n",
        "\n",
        ">[Table of Contents](#folderId=1f4HcgYX5w3A2WnXtuemcRsNKbkm4QvvJ&updateTitle=true&scrollTo=VKrTooqGe8Y4)\n",
        "\n"
      ],
      "metadata": {
        "colab_type": "toc",
        "id": "hEBigLjkfDd8"
      }
    },
    {
      "cell_type": "markdown",
      "source": [
        "# Gynmasium\n",
        "\n",
        "Gymnasium is an open source Python library for developing and comparing reinforcement learning algorithms by providing an API all single agent reinforcement learning environments. Gymnasium is a maintained fork of OpenAI's Gym library. Check out their [documentation](https://gymnasium.farama.org/) for more."
      ],
      "metadata": {
        "id": "kqH0rOvRe_fg"
      }
    },
    {
      "cell_type": "markdown",
      "source": [
        "# The Cartpole Envirnonment\n",
        "\n",
        "The Cartpole environment is on of the most well known classic reinforcement learning problems offered within the Gynmasium library. It's a simple simulation where a pole is attached to a cart, and the goal is to balance the pole by moving the cart left or right.\n",
        "\n",
        "\n",
        "<img src=\"https://bytepawn.com/images/cartpole.gif\" alt=\"Alt text\" width=\"600\" height=\"400\" />\n",
        "\n",
        "> [*Gif Source*](https://bytepawn.com/images/cartpole.gif)\n",
        "\n",
        "A reward $r_t+1 = 1$ is provided for every time step the pole remains upright. The episode will end when:\n",
        "- The pole tips over at a certain angle limit.\n",
        "- The cart moves outside the world edges.\n",
        "- A maximum number of time steps is reached.\n",
        "\n",
        "The goal is to learn a policy that is able to maximize the sum of rewards in an episode."
      ],
      "metadata": {
        "id": "PvYBUQpOhMtY"
      }
    },
    {
      "cell_type": "markdown",
      "source": [
        "# Developing a Cartpole Agent\n",
        "\n",
        "We will now implement our agent using `gynmasium` and `pytorch`."
      ],
      "metadata": {
        "id": "Nb6G6CY0p9i5"
      }
    },
    {
      "cell_type": "markdown",
      "source": [
        "## Install Gymnasium"
      ],
      "metadata": {
        "id": "HC3L1V8nqBvR"
      }
    },
    {
      "cell_type": "code",
      "source": [
        "!pip install gymnasium"
      ],
      "metadata": {
        "colab": {
          "base_uri": "https://localhost:8080/"
        },
        "id": "oKh5b5vLpvRh",
        "outputId": "321e5c57-6e9f-417e-929e-26bfaafb6c23"
      },
      "execution_count": 1,
      "outputs": [
        {
          "output_type": "stream",
          "name": "stdout",
          "text": [
            "Collecting gymnasium\n",
            "  Downloading gymnasium-0.29.1-py3-none-any.whl (953 kB)\n",
            "\u001b[2K     \u001b[90m━━━━━━━━━━━━━━━━━━━━━━━━━━━━━━━━━━━━━━━━\u001b[0m \u001b[32m953.9/953.9 kB\u001b[0m \u001b[31m8.4 MB/s\u001b[0m eta \u001b[36m0:00:00\u001b[0m\n",
            "\u001b[?25hRequirement already satisfied: numpy>=1.21.0 in /usr/local/lib/python3.10/dist-packages (from gymnasium) (1.23.5)\n",
            "Requirement already satisfied: cloudpickle>=1.2.0 in /usr/local/lib/python3.10/dist-packages (from gymnasium) (2.2.1)\n",
            "Requirement already satisfied: typing-extensions>=4.3.0 in /usr/local/lib/python3.10/dist-packages (from gymnasium) (4.5.0)\n",
            "Collecting farama-notifications>=0.0.1 (from gymnasium)\n",
            "  Downloading Farama_Notifications-0.0.4-py3-none-any.whl (2.5 kB)\n",
            "Installing collected packages: farama-notifications, gymnasium\n",
            "Successfully installed farama-notifications-0.0.4 gymnasium-0.29.1\n"
          ]
        }
      ]
    },
    {
      "cell_type": "markdown",
      "source": [
        "## Import Required Libaries"
      ],
      "metadata": {
        "id": "PGgIuvoJqNcS"
      }
    },
    {
      "cell_type": "code",
      "source": [
        "import gymnasium as gym\n",
        "\n",
        "import random\n",
        "import math\n",
        "from collections import namedtuple, deque\n",
        "from itertools import count\n",
        "from copy import deepcopy\n",
        "from tqdm.auto import tqdm\n",
        "from dataclasses import dataclass\n",
        "\n",
        "import pandas as pd\n",
        "from tabulate import tabulate\n",
        "import matplotlib.pyplot as plt\n",
        "import numpy as np\n",
        "\n",
        "import torch\n",
        "import torch.nn as nn\n",
        "import torch.optim as optim\n",
        "import torch.nn.functional as F\n",
        "\n",
        "# Specify GPU if available\n",
        "device = torch.device(\"cuda\" if torch.cuda.is_available() else \"cpu\")\n",
        "\n",
        "# Set plotting grid size\n",
        "plt.rcParams['figure.figsize'] = (10, 6)"
      ],
      "metadata": {
        "id": "lb7JCU3_tnef"
      },
      "execution_count": 2,
      "outputs": []
    },
    {
      "cell_type": "markdown",
      "source": [
        "## Initialize Envirnonment"
      ],
      "metadata": {
        "id": "bJ7HYFR60kkt"
      }
    },
    {
      "cell_type": "code",
      "source": [
        "env = gym.make(\"CartPole-v1\")"
      ],
      "metadata": {
        "id": "Ke3Fs8mi0pyd"
      },
      "execution_count": 3,
      "outputs": []
    },
    {
      "cell_type": "markdown",
      "source": [
        "## Create Replay Memory\n",
        "\n",
        "We will initialize our replay memory, which is where we store the agent's experiences at each time step. We will intiaize two classes:\n",
        "\n",
        "* `Transition` - This will be a named tuple mapping our state-action pairs $(s_t, s_t)$ to their next state and reward $(s_{t+1}, r_{t+1})$.\n",
        "\n",
        "* `ReplayMemory` - A Buffer of a bounded to a size that holds the transitions observed recently. We will also allow our class to randomly a random batch for traning."
      ],
      "metadata": {
        "id": "jODg5INnu0Lt"
      }
    },
    {
      "cell_type": "code",
      "source": [
        "Transition = namedtuple(\n",
        "    'Transition',\n",
        "    ('state', 'action', 'next_state', 'reward')\n",
        ")\n",
        "\n",
        "\n",
        "class ReplayMemory:\n",
        "    def __init__(self, capacity):\n",
        "        self.memory = deque([], maxlen=capacity)\n",
        "\n",
        "    def push(self, *args):\n",
        "        \"\"\"\n",
        "        Save a transition into memory.\n",
        "        \"\"\"\n",
        "        self.memory.append(Transition(*args))\n",
        "\n",
        "    def sample(self, batch_size):\n",
        "        \"\"\"\n",
        "        Randomly sample a batch from memory.\n",
        "        \"\"\"\n",
        "        return random.sample(self.memory, batch_size)\n",
        "\n",
        "    def __len__(self):\n",
        "        return len(self.memory)"
      ],
      "metadata": {
        "id": "iUu9ybq6u6uf"
      },
      "execution_count": 4,
      "outputs": []
    },
    {
      "cell_type": "markdown",
      "source": [
        "## Build Deep Q-Network"
      ],
      "metadata": {
        "id": "FDJbefCZzHe2"
      }
    },
    {
      "cell_type": "code",
      "source": [
        "class DQN(nn.Module):\n",
        "    def __init__(self, n_observations, n_actions):\n",
        "        super(DQN, self).__init__()\n",
        "        self.network = nn.Sequential(\n",
        "            nn.Linear(n_observations, 128),\n",
        "            nn.ReLU(),\n",
        "            nn.Linear(128, 256),\n",
        "            nn.ReLU(),\n",
        "            nn.Linear(256, n_actions)\n",
        "        )\n",
        "\n",
        "        # Use He initialization for weights\n",
        "        for layer in self.network:\n",
        "            if isinstance(layer, nn.Linear):\n",
        "                torch.nn.init.kaiming_uniform_(layer.weight, nonlinearity='relu')\n",
        "\n",
        "    def forward(self, x):\n",
        "        return self.network(x)"
      ],
      "metadata": {
        "id": "XG5WOidfzUm2"
      },
      "execution_count": 5,
      "outputs": []
    },
    {
      "cell_type": "markdown",
      "source": [
        "## Define Hyperparameters\n",
        "\n",
        "We need to define some hyperparameters to train our agent. Instead of just blindly creating variables, we will organize our configurations in a `dataclass` decorator. This allows our hyperparameters to be in one place."
      ],
      "metadata": {
        "id": "ThZri9Xu05mN"
      }
    },
    {
      "cell_type": "code",
      "source": [
        "@dataclass\n",
        "class Config:\n",
        "    \"\"\"\n",
        "    Configuration class defining hyperparameters and environment properties.\n",
        "\n",
        "    Attributes:\n",
        "        batch_size (int): The size of each mini-batch for training.\n",
        "        gamma (float): The discount factor determining the importance of future rewards.\n",
        "        eps_start (float): The starting exploration rate for epsilon-greedy action selection.\n",
        "        eps_end (float): The final exploration rate for epsilon-greedy action selection.\n",
        "        eps_decay (int): The rate at which the exploration rate decays.\n",
        "        tau (float): The factor determining the update rate of target network parameters.\n",
        "        lr (float): The learning rate for the optimizer.\n",
        "        n_actions (int): The number of possible actions in the environment's action space.\n",
        "        n_observations (int): The number of observations in the environment's state space.\n",
        "        num_episodes (int): The number of episodes to train our agent.\n",
        "    \"\"\"\n",
        "    batch_size: int = 128\n",
        "    gamma: float = 0.99\n",
        "    eps_start: float = 1.0\n",
        "    eps_end: float = 0.05\n",
        "    eps_decay: int = 1000\n",
        "    tau: float = 1e-3\n",
        "    lr: float = 1e-3\n",
        "    n_actions: int = env.action_space.n\n",
        "    n_observations: int = env.observation_space.shape[0]\n",
        "    num_episodes: int = 500\n",
        "\n",
        "# Create config instance\n",
        "configs = Config()\n",
        "print(configs)"
      ],
      "metadata": {
        "id": "pvYKbacj1NN1",
        "colab": {
          "base_uri": "https://localhost:8080/"
        },
        "outputId": "47e9d183-1484-4734-9103-a8bbbafef2b0"
      },
      "execution_count": 6,
      "outputs": [
        {
          "output_type": "stream",
          "name": "stdout",
          "text": [
            "Config(batch_size=128, gamma=0.99, eps_start=1.0, eps_end=0.05, eps_decay=1000, tau=0.001, lr=0.001, n_actions=2, n_observations=4, num_episodes=500)\n"
          ]
        }
      ]
    },
    {
      "cell_type": "markdown",
      "source": [
        "## Define Policy and Target Network"
      ],
      "metadata": {
        "id": "6EJVZB4V2qzU"
      }
    },
    {
      "cell_type": "code",
      "source": [
        "# Define Networks\n",
        "policy_net = DQN(configs.n_observations, configs.n_actions).to(device)\n",
        "target_net = deepcopy(policy_net)\n",
        "\n",
        "# Define Policy Network Optimizer\n",
        "optimizer = optim.Adam(policy_net.parameters(), lr=configs.lr)\n",
        "\n",
        "# Intialize memory\n",
        "memory = ReplayMemory(10000)\n",
        "\n",
        "# Define criterion\n",
        "criterion = nn.MSELoss()"
      ],
      "metadata": {
        "id": "2ow9gvDK3EVc"
      },
      "execution_count": 7,
      "outputs": []
    },
    {
      "cell_type": "markdown",
      "source": [
        "## Train Agent"
      ],
      "metadata": {
        "id": "Dk4Cf6283l6x"
      }
    },
    {
      "cell_type": "markdown",
      "source": [
        "### 1. Create Agent Class\n",
        "\n",
        "We will create a class called `Agent` where we can implement our training and evaulation methods for our agent. Our agent at the least should be able to select an action, train our agent via looping through episodes and optimizing our networks, and evaluate our network without gradient computation."
      ],
      "metadata": {
        "id": "knMatU44fToj"
      }
    },
    {
      "cell_type": "code",
      "source": [
        "class Agent:\n",
        "    def __init__(self, env, policy_net, target_net, optimizer, criterion,\n",
        "                 memory, training_configs, transition_tuple, device):\n",
        "        \"\"\"\n",
        "        Initializes a Deep Q Network (DQN) agent.\n",
        "\n",
        "        Parameters:\n",
        "            env: The environment in which the agent interacts.\n",
        "            policy_net: The neural network representing the agent's policy.\n",
        "            target_net: The target neural network used for Q-value target estimation.\n",
        "            optimizer: The optimizer used for updating the policy network.\n",
        "            criterion: The loss criterion for training the policy network.\n",
        "            memory: Replay buffer for storing and sampling experiences.\n",
        "            training_configs: Configuration parameters for the training process.\n",
        "            transition_tuple: Named tuple for representing transitions in the replay buffer.\n",
        "            device: The device (CPU or GPU) on which the agent operates.\n",
        "\n",
        "        Attributes:\n",
        "            env: The environment in which the agent interacts.\n",
        "            policy_net: The neural network representing the agent's policy.\n",
        "            target_net: The target neural network used for Q-value target estimation.\n",
        "            optimizer: The optimizer used for updating the policy network.\n",
        "            criterion: The loss criterion for training the policy network.\n",
        "            memory: Replay buffer for storing and sampling experiences.\n",
        "            training_configs: Configuration parameters for the training process.\n",
        "            transition_tuple: Named tuple for representing transitions in the replay buffer.\n",
        "            device: The device (CPU or GPU) on which the agent operates.\n",
        "            steps_done: Counter for the total number of agent steps taken.\n",
        "            episode_durations: List to store durations of completed episodes.\n",
        "        \"\"\"\n",
        "        self.env = env\n",
        "        self.policy_net = policy_net\n",
        "        self.target_net = target_net\n",
        "        self.optimizer = optimizer\n",
        "        self.criterion = criterion\n",
        "        self.memory = memory\n",
        "        self.training_configs = training_configs\n",
        "        self.transition_tuple = transition_tuple\n",
        "        self.device = device\n",
        "        self.steps_done = 0\n",
        "        self.episode_durations = []\n",
        "\n",
        "    def select_action(self, state, training=False):\n",
        "        \"\"\"\n",
        "        Selects an action using an epsilon-greedy method.\n",
        "\n",
        "        Parameters:\n",
        "            state: The current state of the environment.\n",
        "            training: Boolean telling if it is in training or not. False by defualt.\n",
        "        \"\"\"\n",
        "        # Get parameters from training configs\n",
        "        eps_start = self.training_configs.eps_start\n",
        "        eps_end = self.training_configs.eps_end\n",
        "        eps_decay = self.training_configs.eps_decay\n",
        "\n",
        "        # Sample random floating point number\n",
        "        r = random.random()\n",
        "\n",
        "        # Decay epsilon\n",
        "        eps_threshold = eps_end + (eps_start - eps_end) * math.exp(-1. * self.steps_done / eps_decay)\n",
        "        if training:\n",
        "            self.steps_done += 1\n",
        "\n",
        "        # Epsilon-greedy strategy\n",
        "        if r > eps_threshold:\n",
        "            with torch.no_grad():\n",
        "                # Get the index of the action with the maximum value\n",
        "                return self.policy_net(state).argmax(1).view(1, 1)\n",
        "        else:\n",
        "            return torch.tensor(self.env.action_space.sample(),\n",
        "                                device=self.device,\n",
        "                                dtype=torch.long).view(1, 1)\n",
        "\n",
        "    def _optimize(self):\n",
        "        \"\"\"\n",
        "        Performs optimization on the policy network using a mini-batch of experiences.\n",
        "        \"\"\"\n",
        "        if len(self.memory) < self.training_configs.batch_size:\n",
        "            return None\n",
        "\n",
        "        # Sample a random batch\n",
        "        transitions = self.memory.sample(self.training_configs.batch_size)\n",
        "\n",
        "        # Transpose the batch into named tuple format\n",
        "        batch = self.transition_tuple(*zip(*transitions))\n",
        "\n",
        "        # Compute a mask of non-terminal states\n",
        "        non_terminal_mask = torch.tensor(tuple(map(\n",
        "            lambda s: s is not None, batch.next_state\n",
        "        )), device=self.device, dtype=torch.bool)\n",
        "\n",
        "        # Compute a mask of non-terminal next states\n",
        "        non_terminal_next_states = torch.cat([s for s in batch.next_state if s is not None])\n",
        "\n",
        "        # Concat the batch elements\n",
        "        state_batch = torch.cat(batch.state)\n",
        "        action_batch = torch.cat(batch.action)\n",
        "        reward_batch = torch.cat(batch.reward)\n",
        "\n",
        "        # Compute state-action values\n",
        "        state_action_values = self.policy_net(state_batch).gather(1, action_batch)\n",
        "\n",
        "        # Get next state values\n",
        "        with torch.no_grad():\n",
        "            next_state_values = torch.zeros(self.training_configs.batch_size, device=self.device)\n",
        "            next_state_values[non_terminal_mask] = self.target_net(non_terminal_next_states).max(1).values\n",
        "\n",
        "        # Compute the expected Q values with Bellman equation\n",
        "        expected_state_action_values = reward_batch + (self.training_configs.gamma * next_state_values)\n",
        "\n",
        "        # Compute loss\n",
        "        loss = self.criterion(state_action_values, expected_state_action_values.unsqueeze(1))\n",
        "\n",
        "        # Optimize model\n",
        "        self.optimizer.zero_grad()\n",
        "        loss.backward()\n",
        "        torch.nn.utils.clip_grad_norm_(self.policy_net.parameters(), 100)\n",
        "        self.optimizer.step()\n",
        "\n",
        "    def train(self, plot_training=True):\n",
        "        \"\"\"\n",
        "        Executes the training loop for a specified number of episodes.\n",
        "\n",
        "        Parameters:\n",
        "            plot_training (bool): Plots training episodes after training loop.\n",
        "        \"\"\"\n",
        "        self.policy_net.train()\n",
        "        self.target_net.train()\n",
        "        for episode in tqdm(range(self.training_configs.num_episodes)):\n",
        "\n",
        "            # Initialize envirnonment and get the state\n",
        "            state, info = self.env.reset()\n",
        "            state = torch.tensor(state, device=self.device).unsqueeze(0)\n",
        "            for t in count():\n",
        "                action = self.select_action(state, training=True)\n",
        "                observation, reward, terminated, truncated, _ = self.env.step(action.item())\n",
        "                reward = torch.tensor([reward], device=self.device)\n",
        "                done = truncated or terminated\n",
        "\n",
        "                if terminated:\n",
        "                    next_state = None\n",
        "                else:\n",
        "                    next_state = torch.tensor(observation, device=self.device, dtype=torch.float32).unsqueeze(0)\n",
        "\n",
        "                # Store transtion in memory\n",
        "                self.memory.push(state, action, next_state, reward)\n",
        "\n",
        "                # s_t -> s_{t+1}\n",
        "                state = next_state\n",
        "\n",
        "                # One step optimization on policy network\n",
        "                self._optimize()\n",
        "\n",
        "                # Soft update target net parameters\n",
        "                target_net_params = self.target_net.state_dict()\n",
        "                policy_net_params = self.policy_net.state_dict()\n",
        "                for key in policy_net_params:\n",
        "                    tau = self.training_configs.tau\n",
        "                    target_net_params[key] = policy_net_params[key] * tau + target_net_params[key] * (1-tau)\n",
        "                self.target_net.load_state_dict(target_net_params)\n",
        "\n",
        "                if done:\n",
        "                    self.episode_durations.append(t + 1)\n",
        "                    break\n",
        "\n",
        "        if plot_training:\n",
        "            self.plot_training()\n",
        "\n",
        "    @torch.no_grad()\n",
        "    def evaluate(self, num_episodes=10, return_df=False, print_df=True):\n",
        "        \"\"\"\n",
        "        Evaluates the trained DQN agent over a specified number of episodes.\n",
        "\n",
        "        Parameters:\n",
        "            num_episodes (int): Number of episodes for evaluation.\n",
        "            return_df (bool): Returns dataframe if True.\n",
        "            print_df (bool): Prints dataframe if True.\n",
        "        \"\"\"\n",
        "        episode_durations = []\n",
        "\n",
        "        self.policy_net.eval()\n",
        "        self.target_net.eval()\n",
        "        for episode in range(num_episodes):\n",
        "            state, _ = self.env.reset()\n",
        "            state = torch.tensor(state, device=self.device).unsqueeze(0)\n",
        "\n",
        "            for t in count():\n",
        "                action = self.select_action(state)\n",
        "                observation, reward, terminated, truncated, _ = self.env.step(action.item())\n",
        "\n",
        "                if terminated:\n",
        "                    episode_durations.append(t + 1)\n",
        "                    break\n",
        "\n",
        "                state = torch.tensor(observation, device=self.device, dtype=torch.float32).unsqueeze(0)\n",
        "\n",
        "        # Print or log evaluation results\n",
        "        df = pd.DataFrame(\n",
        "            list(zip(np.arange(num_episodes)+1, episode_durations)),\n",
        "            columns=['Episode', 'Duration']\n",
        "        )\n",
        "        if print_df:\n",
        "            print(tabulate(df, tablefmt='pretty', headers='keys', showindex=False))\n",
        "\n",
        "        avg_duration = sum(episode_durations) / num_episodes\n",
        "        print(f'Average duration over {num_episodes} episodes: {avg_duration}')\n",
        "\n",
        "        if return_df:\n",
        "            return df\n",
        "\n",
        "    def plot_training(self):\n",
        "        \"\"\"\n",
        "        Plots training durations for each episode.\n",
        "        \"\"\"\n",
        "        plt.plot(self.episode_durations)\n",
        "        plt.xlabel('Episode')\n",
        "        plt.ylabel('Duration')\n",
        "        plt.title('Episode Durations')\n",
        "        plt.show()"
      ],
      "metadata": {
        "id": "xB7I87T34miZ"
      },
      "execution_count": 8,
      "outputs": []
    },
    {
      "cell_type": "markdown",
      "source": [
        "### 2. Intialize Agent\n",
        "\n",
        "We will initialize our agent using our `Agent` class."
      ],
      "metadata": {
        "id": "09Ue7ohufZl9"
      }
    },
    {
      "cell_type": "code",
      "source": [
        "# Create agent instance\n",
        "agent = Agent(\n",
        "    env=env,\n",
        "    policy_net=policy_net,\n",
        "    target_net=target_net,\n",
        "    optimizer=optimizer,\n",
        "    criterion=criterion,\n",
        "    memory=memory,\n",
        "    training_configs=configs,\n",
        "    transition_tuple=Transition,\n",
        "    device=device\n",
        ")\n",
        "\n",
        "# Get an initial evaluation\n",
        "agent.evaluate()"
      ],
      "metadata": {
        "colab": {
          "base_uri": "https://localhost:8080/"
        },
        "id": "wWz3VW3Bd7_k",
        "outputId": "75d592e4-9179-40d5-d5e7-1c4b69e2712b"
      },
      "execution_count": 9,
      "outputs": [
        {
          "output_type": "stream",
          "name": "stdout",
          "text": [
            "+---------+----------+\n",
            "| Episode | Duration |\n",
            "+---------+----------+\n",
            "|    1    |    12    |\n",
            "|    2    |    30    |\n",
            "|    3    |    18    |\n",
            "|    4    |    49    |\n",
            "|    5    |    27    |\n",
            "|    6    |    14    |\n",
            "|    7    |    14    |\n",
            "|    8    |    16    |\n",
            "|    9    |    28    |\n",
            "|   10    |    19    |\n",
            "+---------+----------+\n",
            "Average duration over 10 episodes: 22.7\n"
          ]
        }
      ]
    },
    {
      "cell_type": "markdown",
      "source": [
        "### 3. Train Agent\n",
        "\n",
        "We will use the `train()` method to train our agent."
      ],
      "metadata": {
        "id": "wfJLiwvxOHPl"
      }
    },
    {
      "cell_type": "code",
      "source": [
        "agent.train()"
      ],
      "metadata": {
        "colab": {
          "base_uri": "https://localhost:8080/",
          "height": 596,
          "referenced_widgets": [
            "7875753aea854cdba65e5a7132c32881",
            "d091b065b9624280b784a426420d3423",
            "cedd60b7133a468099e710c62cf6998f",
            "be8dc488b2674997a64627dff6a61d2a",
            "26ee1b6ea8db42d1a8161cea9a096150",
            "6e59f3692d1a4bf8bfe5b3469a145ce7",
            "44e71494a79c42b3b50b7b5daadf6cc3",
            "81d112dea6fc48778aca957affd8a4ef",
            "a805eef23b2346f5b799841a7535aa1b",
            "0d0e4b6e23d043658c24b2a6a03b79b2",
            "41c1ad13554341bea345f7bd52b2d6ff"
          ]
        },
        "id": "mHEAXiDafFgM",
        "outputId": "b411e793-ee35-4f15-ce7e-6b49dc7b1ec6"
      },
      "execution_count": 10,
      "outputs": [
        {
          "output_type": "display_data",
          "data": {
            "text/plain": [
              "  0%|          | 0/500 [00:00<?, ?it/s]"
            ],
            "application/vnd.jupyter.widget-view+json": {
              "version_major": 2,
              "version_minor": 0,
              "model_id": "7875753aea854cdba65e5a7132c32881"
            }
          },
          "metadata": {}
        },
        {
          "output_type": "display_data",
          "data": {
            "text/plain": [
              "<Figure size 1000x600 with 1 Axes>"
            ],
            "image/png": "[encoded data removed]"
          },
          "metadata": {}
        }
      ]
    },
    {
      "cell_type": "markdown",
      "source": [
        "### 4. Evaluate Agent"
      ],
      "metadata": {
        "id": "I3BZpojZaw9d"
      }
    },
    {
      "cell_type": "code",
      "source": [
        "agent.evaluate()"
      ],
      "metadata": {
        "colab": {
          "base_uri": "https://localhost:8080/"
        },
        "id": "SmazmHYocSYf",
        "outputId": "d2fc01f8-1a21-4ef6-b701-d274a68837b0"
      },
      "execution_count": 11,
      "outputs": [
        {
          "output_type": "stream",
          "name": "stdout",
          "text": [
            "+---------+----------+\n",
            "| Episode | Duration |\n",
            "+---------+----------+\n",
            "|    1    |   180    |\n",
            "|    2    |   188    |\n",
            "|    3    |   182    |\n",
            "|    4    |   189    |\n",
            "|    5    |   184    |\n",
            "|    6    |   183    |\n",
            "|    7    |   177    |\n",
            "|    8    |   179    |\n",
            "|    9    |   173    |\n",
            "|   10    |   174    |\n",
            "+---------+----------+\n",
            "Average duration over 10 episodes: 180.9\n"
          ]
        }
      ]
    },
    {
      "cell_type": "markdown",
      "source": [
        "We can see that through training, we can see our agent improved its strategy and performance of Cart Pole through training! We see this in the increase in episode durations during our evaluation episodes."
      ],
      "metadata": {
        "id": "SMNoaZbKfmn_"
      }
    },
    {
      "cell_type": "markdown",
      "source": [
        "> **[Click to Access Course Homepage](https://github.com/danplotkin/mastering_rl?tab=readme-ov-file#understanding-reinforcement-learning)**"
      ],
      "metadata": {
        "id": "57lxLHpHxSTm"
      }
    }
  ]
}