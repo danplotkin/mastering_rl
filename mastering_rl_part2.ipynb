{
  "nbformat": 4,
  "nbformat_minor": 0,
  "metadata": {
    "colab": {
      "provenance": [],
      "gpuType": "T4",
      "authorship_tag": "ABX9TyMPthXtBnQj0o+91TKOxVQu",
      "include_colab_link": true
    },
    "kernelspec": {
      "name": "python3",
      "display_name": "Python 3"
    },
    "language_info": {
      "name": "python"
    },
    "accelerator": "GPU",
    "widgets": {
      "application/vnd.jupyter.widget-state+json": {
        "924f84b19c0b4291932a88673200101f": {
          "model_module": "@jupyter-widgets/controls",
          "model_name": "HBoxModel",
          "model_module_version": "1.5.0",
          "state": {
            "_dom_classes": [],
            "_model_module": "@jupyter-widgets/controls",
            "_model_module_version": "1.5.0",
            "_model_name": "HBoxModel",
            "_view_count": null,
            "_view_module": "@jupyter-widgets/controls",
            "_view_module_version": "1.5.0",
            "_view_name": "HBoxView",
            "box_style": "",
            "children": [
              "IPY_MODEL_ee652b1ef6b54b48b7ba86eb56bb48b0",
              "IPY_MODEL_4a21add196d04ccab5935b523e251b81",
              "IPY_MODEL_47cfbde36ee84a43a7e7f1c978b75f6c"
            ],
            "layout": "IPY_MODEL_e98572fb466948769791ecbe4fbaa95c"
          }
        },
        "ee652b1ef6b54b48b7ba86eb56bb48b0": {
          "model_module": "@jupyter-widgets/controls",
          "model_name": "HTMLModel",
          "model_module_version": "1.5.0",
          "state": {
            "_dom_classes": [],
            "_model_module": "@jupyter-widgets/controls",
            "_model_module_version": "1.5.0",
            "_model_name": "HTMLModel",
            "_view_count": null,
            "_view_module": "@jupyter-widgets/controls",
            "_view_module_version": "1.5.0",
            "_view_name": "HTMLView",
            "description": "",
            "description_tooltip": null,
            "layout": "IPY_MODEL_c53bd4fd9eff4a52ad2f1581387764bb",
            "placeholder": "​",
            "style": "IPY_MODEL_71f0b764b5124744a581c7317d8cf498",
            "value": "100%"
          }
        },
        "4a21add196d04ccab5935b523e251b81": {
          "model_module": "@jupyter-widgets/controls",
          "model_name": "FloatProgressModel",
          "model_module_version": "1.5.0",
          "state": {
            "_dom_classes": [],
            "_model_module": "@jupyter-widgets/controls",
            "_model_module_version": "1.5.0",
            "_model_name": "FloatProgressModel",
            "_view_count": null,
            "_view_module": "@jupyter-widgets/controls",
            "_view_module_version": "1.5.0",
            "_view_name": "ProgressView",
            "bar_style": "success",
            "description": "",
            "description_tooltip": null,
            "layout": "IPY_MODEL_da5cb5fb84f844ddb887b8740f1226a8",
            "max": 600,
            "min": 0,
            "orientation": "horizontal",
            "style": "IPY_MODEL_39f826906ede4c14bd922b9209b5e212",
            "value": 600
          }
        },
        "47cfbde36ee84a43a7e7f1c978b75f6c": {
          "model_module": "@jupyter-widgets/controls",
          "model_name": "HTMLModel",
          "model_module_version": "1.5.0",
          "state": {
            "_dom_classes": [],
            "_model_module": "@jupyter-widgets/controls",
            "_model_module_version": "1.5.0",
            "_model_name": "HTMLModel",
            "_view_count": null,
            "_view_module": "@jupyter-widgets/controls",
            "_view_module_version": "1.5.0",
            "_view_name": "HTMLView",
            "description": "",
            "description_tooltip": null,
            "layout": "IPY_MODEL_cf138ba112f04964a790faff071ff9df",
            "placeholder": "​",
            "style": "IPY_MODEL_9d0cd0757bee4f669088cb6ed38f6b93",
            "value": " 600/600 [09:08&lt;00:00,  1.39it/s]"
          }
        },
        "e98572fb466948769791ecbe4fbaa95c": {
          "model_module": "@jupyter-widgets/base",
          "model_name": "LayoutModel",
          "model_module_version": "1.2.0",
          "state": {
            "_model_module": "@jupyter-widgets/base",
            "_model_module_version": "1.2.0",
            "_model_name": "LayoutModel",
            "_view_count": null,
            "_view_module": "@jupyter-widgets/base",
            "_view_module_version": "1.2.0",
            "_view_name": "LayoutView",
            "align_content": null,
            "align_items": null,
            "align_self": null,
            "border": null,
            "bottom": null,
            "display": null,
            "flex": null,
            "flex_flow": null,
            "grid_area": null,
            "grid_auto_columns": null,
            "grid_auto_flow": null,
            "grid_auto_rows": null,
            "grid_column": null,
            "grid_gap": null,
            "grid_row": null,
            "grid_template_areas": null,
            "grid_template_columns": null,
            "grid_template_rows": null,
            "height": null,
            "justify_content": null,
            "justify_items": null,
            "left": null,
            "margin": null,
            "max_height": null,
            "max_width": null,
            "min_height": null,
            "min_width": null,
            "object_fit": null,
            "object_position": null,
            "order": null,
            "overflow": null,
            "overflow_x": null,
            "overflow_y": null,
            "padding": null,
            "right": null,
            "top": null,
            "visibility": null,
            "width": null
          }
        },
        "c53bd4fd9eff4a52ad2f1581387764bb": {
          "model_module": "@jupyter-widgets/base",
          "model_name": "LayoutModel",
          "model_module_version": "1.2.0",
          "state": {
            "_model_module": "@jupyter-widgets/base",
            "_model_module_version": "1.2.0",
            "_model_name": "LayoutModel",
            "_view_count": null,
            "_view_module": "@jupyter-widgets/base",
            "_view_module_version": "1.2.0",
            "_view_name": "LayoutView",
            "align_content": null,
            "align_items": null,
            "align_self": null,
            "border": null,
            "bottom": null,
            "display": null,
            "flex": null,
            "flex_flow": null,
            "grid_area": null,
            "grid_auto_columns": null,
            "grid_auto_flow": null,
            "grid_auto_rows": null,
            "grid_column": null,
            "grid_gap": null,
            "grid_row": null,
            "grid_template_areas": null,
            "grid_template_columns": null,
            "grid_template_rows": null,
            "height": null,
            "justify_content": null,
            "justify_items": null,
            "left": null,
            "margin": null,
            "max_height": null,
            "max_width": null,
            "min_height": null,
            "min_width": null,
            "object_fit": null,
            "object_position": null,
            "order": null,
            "overflow": null,
            "overflow_x": null,
            "overflow_y": null,
            "padding": null,
            "right": null,
            "top": null,
            "visibility": null,
            "width": null
          }
        },
        "71f0b764b5124744a581c7317d8cf498": {
          "model_module": "@jupyter-widgets/controls",
          "model_name": "DescriptionStyleModel",
          "model_module_version": "1.5.0",
          "state": {
            "_model_module": "@jupyter-widgets/controls",
            "_model_module_version": "1.5.0",
            "_model_name": "DescriptionStyleModel",
            "_view_count": null,
            "_view_module": "@jupyter-widgets/base",
            "_view_module_version": "1.2.0",
            "_view_name": "StyleView",
            "description_width": ""
          }
        },
        "da5cb5fb84f844ddb887b8740f1226a8": {
          "model_module": "@jupyter-widgets/base",
          "model_name": "LayoutModel",
          "model_module_version": "1.2.0",
          "state": {
            "_model_module": "@jupyter-widgets/base",
            "_model_module_version": "1.2.0",
            "_model_name": "LayoutModel",
            "_view_count": null,
            "_view_module": "@jupyter-widgets/base",
            "_view_module_version": "1.2.0",
            "_view_name": "LayoutView",
            "align_content": null,
            "align_items": null,
            "align_self": null,
            "border": null,
            "bottom": null,
            "display": null,
            "flex": null,
            "flex_flow": null,
            "grid_area": null,
            "grid_auto_columns": null,
            "grid_auto_flow": null,
            "grid_auto_rows": null,
            "grid_column": null,
            "grid_gap": null,
            "grid_row": null,
            "grid_template_areas": null,
            "grid_template_columns": null,
            "grid_template_rows": null,
            "height": null,
            "justify_content": null,
            "justify_items": null,
            "left": null,
            "margin": null,
            "max_height": null,
            "max_width": null,
            "min_height": null,
            "min_width": null,
            "object_fit": null,
            "object_position": null,
            "order": null,
            "overflow": null,
            "overflow_x": null,
            "overflow_y": null,
            "padding": null,
            "right": null,
            "top": null,
            "visibility": null,
            "width": null
          }
        },
        "39f826906ede4c14bd922b9209b5e212": {
          "model_module": "@jupyter-widgets/controls",
          "model_name": "ProgressStyleModel",
          "model_module_version": "1.5.0",
          "state": {
            "_model_module": "@jupyter-widgets/controls",
            "_model_module_version": "1.5.0",
            "_model_name": "ProgressStyleModel",
            "_view_count": null,
            "_view_module": "@jupyter-widgets/base",
            "_view_module_version": "1.2.0",
            "_view_name": "StyleView",
            "bar_color": null,
            "description_width": ""
          }
        },
        "cf138ba112f04964a790faff071ff9df": {
          "model_module": "@jupyter-widgets/base",
          "model_name": "LayoutModel",
          "model_module_version": "1.2.0",
          "state": {
            "_model_module": "@jupyter-widgets/base",
            "_model_module_version": "1.2.0",
            "_model_name": "LayoutModel",
            "_view_count": null,
            "_view_module": "@jupyter-widgets/base",
            "_view_module_version": "1.2.0",
            "_view_name": "LayoutView",
            "align_content": null,
            "align_items": null,
            "align_self": null,
            "border": null,
            "bottom": null,
            "display": null,
            "flex": null,
            "flex_flow": null,
            "grid_area": null,
            "grid_auto_columns": null,
            "grid_auto_flow": null,
            "grid_auto_rows": null,
            "grid_column": null,
            "grid_gap": null,
            "grid_row": null,
            "grid_template_areas": null,
            "grid_template_columns": null,
            "grid_template_rows": null,
            "height": null,
            "justify_content": null,
            "justify_items": null,
            "left": null,
            "margin": null,
            "max_height": null,
            "max_width": null,
            "min_height": null,
            "min_width": null,
            "object_fit": null,
            "object_position": null,
            "order": null,
            "overflow": null,
            "overflow_x": null,
            "overflow_y": null,
            "padding": null,
            "right": null,
            "top": null,
            "visibility": null,
            "width": null
          }
        },
        "9d0cd0757bee4f669088cb6ed38f6b93": {
          "model_module": "@jupyter-widgets/controls",
          "model_name": "DescriptionStyleModel",
          "model_module_version": "1.5.0",
          "state": {
            "_model_module": "@jupyter-widgets/controls",
            "_model_module_version": "1.5.0",
            "_model_name": "DescriptionStyleModel",
            "_view_count": null,
            "_view_module": "@jupyter-widgets/base",
            "_view_module_version": "1.2.0",
            "_view_name": "StyleView",
            "description_width": ""
          }
        }
      }
    }
  },
  "cells": [
    {
      "cell_type": "markdown",
      "metadata": {
        "id": "view-in-github",
        "colab_type": "text"
      },
      "source": [
        "<a href=\"https://colab.research.google.com/github/danplotkin/mastering_rl/blob/main/mastering_rl_part2.ipynb\" target=\"_parent\"><img src=\"https://colab.research.google.com/assets/colab-badge.svg\" alt=\"Open In Colab\"/></a>"
      ]
    },
    {
      "cell_type": "markdown",
      "source": [
        "# Mastering Reinforcement Learning: Theory, Math, and Python\n",
        ">  _**Part II: Implementing Reinforcement Learning in Python**_\n",
        "\n",
        "> *Author:  Daniel M. Plotkin*\n",
        "\n",
        "> *Author Email: danmplotkin@gmail.com*\n",
        "\n",
        "> *Last Updated: 1/22/2024*\n",
        "\n",
        "> **[Click to Access Course Homepage](https://github.com/danplotkin/mastering_rl/tree/main?tab=readme-ov-file#mastering-reinforcement-learning-theory-math-and-python)**"
      ],
      "metadata": {
        "id": "D7MsrzHjdsbW"
      }
    },
    {
      "cell_type": "markdown",
      "source": [
        "# Table of Contents"
      ],
      "metadata": {
        "id": "VKrTooqGe8Y4"
      }
    },
    {
      "cell_type": "markdown",
      "source": [
        ">[Gynmasium](#scrollTo=kqH0rOvRe_fg)\n",
        "\n",
        ">[The Cartpole Envirnonment](#scrollTo=PvYBUQpOhMtY)\n",
        "\n",
        ">>[Solved Requirements](#scrollTo=PvYBUQpOhMtY)\n",
        "\n",
        ">[Developing a Cartpole Agent](#scrollTo=Nb6G6CY0p9i5)\n",
        "\n",
        ">>[Install Gymnasium](#scrollTo=HC3L1V8nqBvR)\n",
        "\n",
        ">>[Import Required Libaries](#scrollTo=PGgIuvoJqNcS)\n",
        "\n",
        ">>[Initialize Envirnonment](#scrollTo=bJ7HYFR60kkt)\n",
        "\n",
        ">>[Create Replay Memory](#scrollTo=jODg5INnu0Lt)\n",
        "\n",
        ">>[Build Deep Q-Network](#scrollTo=FDJbefCZzHe2)\n",
        "\n",
        ">>[Define Hyperparameters](#scrollTo=ThZri9Xu05mN)\n",
        "\n",
        ">>[Define Policy and Target Network](#scrollTo=6EJVZB4V2qzU)\n",
        "\n",
        ">>[Create Policy Network Tracker](#scrollTo=ieo-MnXFmobk)\n",
        "\n",
        ">>[Train Agent](#scrollTo=Dk4Cf6283l6x)\n",
        "\n",
        ">>>[Create Math Functions for Training](#scrollTo=25RXohBnekUH)\n",
        "\n",
        ">>>[Create Agent Class](#scrollTo=knMatU44fToj)\n",
        "\n",
        ">>>[Intialize Agent](#scrollTo=09Ue7ohufZl9)\n",
        "\n",
        ">>>[Train Agent](#scrollTo=wfJLiwvxOHPl)\n",
        "\n",
        ">>>[Evaluate Agent](#scrollTo=I3BZpojZaw9d)\n",
        "\n",
        ">>[Solve Problem](#scrollTo=h_wUaBbxXgxc)\n",
        "\n"
      ],
      "metadata": {
        "colab_type": "toc",
        "id": "hEBigLjkfDd8"
      }
    },
    {
      "cell_type": "markdown",
      "source": [
        "# Gynmasium\n",
        "\n",
        "Gymnasium is an open source Python library for developing and comparing reinforcement learning algorithms by providing an API all single agent reinforcement learning environments. Gymnasium is a maintained fork of OpenAI's Gym library. Check out their [documentation](https://gymnasium.farama.org/) for more."
      ],
      "metadata": {
        "id": "kqH0rOvRe_fg"
      }
    },
    {
      "cell_type": "markdown",
      "source": [
        "# The Cartpole Envirnonment\n",
        "\n",
        "The Cartpole environment is on of the most well known classic reinforcement learning problems offered within the Gynmasium library. It's a simple simulation where a pole is attached to a cart, and the goal is to balance the pole by moving the cart left or right.\n",
        "\n",
        "\n",
        "<img src=\"https://bytepawn.com/images/cartpole.gif\" alt=\"Alt text\" width=\"600\" height=\"400\" />\n",
        "\n",
        "> [*Gif Source*](https://bytepawn.com/images/cartpole.gif)\n",
        "\n",
        "A reward $r_t+1 = 1$ is provided for every time step the pole remains upright. The episode will end when:\n",
        "- The pole tips over at a certain angle limit.\n",
        "- The cart moves outside the world edges.\n",
        "- A maximum number of time steps is reached (500 in this environment).\n",
        "\n",
        "The goal is to learn a policy that is able to maximize the sum of rewards in an episode.\n",
        "\n",
        "## Solved Requirements\n",
        "\n",
        "This problem is considered \"solved\" when the average reward is greater than or equal to 195.0 over 100 consecutive trials. Source from [OpenAI Gym Github Repo](https://github.com/openai/gym/wiki/CartPole-v0#solved-requirements)."
      ],
      "metadata": {
        "id": "PvYBUQpOhMtY"
      }
    },
    {
      "cell_type": "markdown",
      "source": [
        "# Developing a Cartpole Agent\n",
        "\n",
        "We will now implement our agent using `gynmasium` and `pytorch`."
      ],
      "metadata": {
        "id": "Nb6G6CY0p9i5"
      }
    },
    {
      "cell_type": "markdown",
      "source": [
        "## Install Gymnasium"
      ],
      "metadata": {
        "id": "HC3L1V8nqBvR"
      }
    },
    {
      "cell_type": "code",
      "source": [
        "!pip install gymnasium"
      ],
      "metadata": {
        "colab": {
          "base_uri": "https://localhost:8080/"
        },
        "id": "oKh5b5vLpvRh",
        "outputId": "2bf2c275-6f52-4a95-b155-f77d55c7510d"
      },
      "execution_count": null,
      "outputs": [
        {
          "output_type": "stream",
          "name": "stdout",
          "text": [
            "Collecting gymnasium\n",
            "  Downloading gymnasium-0.29.1-py3-none-any.whl (953 kB)\n",
            "\u001b[2K     \u001b[90m━━━━━━━━━━━━━━━━━━━━━━━━━━━━━━━━━━━━━━━━\u001b[0m \u001b[32m953.9/953.9 kB\u001b[0m \u001b[31m8.4 MB/s\u001b[0m eta \u001b[36m0:00:00\u001b[0m\n",
            "\u001b[?25hRequirement already satisfied: numpy>=1.21.0 in /usr/local/lib/python3.10/dist-packages (from gymnasium) (1.23.5)\n",
            "Requirement already satisfied: cloudpickle>=1.2.0 in /usr/local/lib/python3.10/dist-packages (from gymnasium) (2.2.1)\n",
            "Requirement already satisfied: typing-extensions>=4.3.0 in /usr/local/lib/python3.10/dist-packages (from gymnasium) (4.5.0)\n",
            "Collecting farama-notifications>=0.0.1 (from gymnasium)\n",
            "  Downloading Farama_Notifications-0.0.4-py3-none-any.whl (2.5 kB)\n",
            "Installing collected packages: farama-notifications, gymnasium\n",
            "Successfully installed farama-notifications-0.0.4 gymnasium-0.29.1\n"
          ]
        }
      ]
    },
    {
      "cell_type": "markdown",
      "source": [
        "## Import Required Libaries"
      ],
      "metadata": {
        "id": "PGgIuvoJqNcS"
      }
    },
    {
      "cell_type": "code",
      "source": [
        "import gymnasium as gym\n",
        "\n",
        "import random\n",
        "import math\n",
        "from collections import namedtuple, deque\n",
        "from copy import deepcopy\n",
        "from tqdm.auto import tqdm\n",
        "from dataclasses import dataclass\n",
        "\n",
        "import pandas as pd\n",
        "from tabulate import tabulate\n",
        "import matplotlib.pyplot as plt\n",
        "import numpy as np\n",
        "\n",
        "import torch\n",
        "import torch.nn as nn\n",
        "import torch.optim as optim\n",
        "import torch.nn.functional as F\n",
        "\n",
        "# Specify GPU if available\n",
        "device = torch.device(\"cuda\" if torch.cuda.is_available() else \"cpu\")\n",
        "\n",
        "# Set plotting grid size\n",
        "plt.rcParams['figure.figsize'] = (10, 6)"
      ],
      "metadata": {
        "id": "lb7JCU3_tnef"
      },
      "execution_count": null,
      "outputs": []
    },
    {
      "cell_type": "markdown",
      "source": [
        "## Initialize Envirnonment"
      ],
      "metadata": {
        "id": "bJ7HYFR60kkt"
      }
    },
    {
      "cell_type": "code",
      "source": [
        "env = gym.make(\"CartPole-v1\")"
      ],
      "metadata": {
        "id": "Ke3Fs8mi0pyd"
      },
      "execution_count": null,
      "outputs": []
    },
    {
      "cell_type": "markdown",
      "source": [
        "## Create Replay Memory\n",
        "\n",
        "We will initialize our replay memory, which is where we store the agent's experiences at each time step. We will intiaize two classes:\n",
        "\n",
        "* `Transition` - This will be a named tuple mapping our state-action pairs $(s_t, s_t)$ to their next state and reward $(s_{t+1}, r_{t+1})$.\n",
        "\n",
        "* `ReplayMemory` - A Buffer of a bounded to a size that holds the transitions observed recently. We will also allow our class to randomly a random batch for traning."
      ],
      "metadata": {
        "id": "jODg5INnu0Lt"
      }
    },
    {
      "cell_type": "code",
      "source": [
        "Transition = namedtuple(\n",
        "    'Transition',\n",
        "    ('state', 'action', 'reward', 'next_state')\n",
        ")\n",
        "\n",
        "\n",
        "class ReplayMemory:\n",
        "    \"\"\"\n",
        "    Replay memory object for Deep Q Network (DQN).\n",
        "\n",
        "    Parameters:\n",
        "    - capacity: Maximum capacity of the replay memory.\n",
        "\n",
        "    Attributes:\n",
        "    - memory (collections.deque): A deque representing the replay memory with a specified capacity.\n",
        "\n",
        "    Methods:\n",
        "    - push(*args):\n",
        "        Save a transition into memory.\n",
        "\n",
        "    - sample(batch_size):\n",
        "        Randomly sample a batch of transitions from memory.\n",
        "\n",
        "    - __len__():\n",
        "        Get the current size (number of transitions) of the replay memory.\n",
        "\n",
        "    Example Usage:\n",
        "    ```python\n",
        "    # Create an instance of ReplayMemory with a capacity of 1000\n",
        "    memory = ReplayMemory(capacity=1000)\n",
        "\n",
        "    # Save a transition into memory\n",
        "    memory.push(state, action, reward, next_state)\n",
        "\n",
        "    # Randomly sample a batch of transitions\n",
        "    batch = memory.sample(batch_size=32)\n",
        "\n",
        "    # Get the current size of the replay memory\n",
        "    size = len(memory)\n",
        "    ```\n",
        "    \"\"\"\n",
        "    def __init__(self, capacity):\n",
        "        self.memory = deque([], maxlen=capacity)\n",
        "\n",
        "    def push(self, *args):\n",
        "        \"\"\"\n",
        "        Save a transition into memory.\n",
        "\n",
        "        Parameters:\n",
        "        - *args: Variable number of arguments representing a transition (state, action, reward, next_state).\n",
        "        \"\"\"\n",
        "        self.memory.append(Transition(*args))\n",
        "\n",
        "    def sample(self, batch_size):\n",
        "        \"\"\"\n",
        "        Randomly sample a batch from memory.\n",
        "\n",
        "        Parameters:\n",
        "        - batch_size: Number of transitions to sample in a batch.\n",
        "\n",
        "        Returns:\n",
        "        - list: A list of sampled transitions.\n",
        "        \"\"\"\n",
        "        return random.sample(self.memory, batch_size)\n",
        "\n",
        "    def __len__(self):\n",
        "        \"\"\"\n",
        "        Get the current size (number of transitions) of the replay memory.\n",
        "\n",
        "        Returns:\n",
        "        - int: Current size of the replay memory.\n",
        "        \"\"\"\n",
        "        return len(self.memory)"
      ],
      "metadata": {
        "id": "iUu9ybq6u6uf"
      },
      "execution_count": null,
      "outputs": []
    },
    {
      "cell_type": "markdown",
      "source": [
        "## Build Deep Q-Network\n",
        "\n",
        "We will build are Deep Q-Network using `PyTorch`."
      ],
      "metadata": {
        "id": "FDJbefCZzHe2"
      }
    },
    {
      "cell_type": "code",
      "source": [
        "class DQN(nn.Module):\n",
        "    def __init__(self, n_observations, n_actions):\n",
        "        super(DQN, self).__init__()\n",
        "        self.network = nn.Sequential(\n",
        "            nn.Linear(n_observations, 256),\n",
        "            nn.ReLU(),\n",
        "            nn.Linear(256, 128),\n",
        "            nn.ReLU(),\n",
        "            nn.Linear(128, n_actions)\n",
        "        )\n",
        "\n",
        "    def forward(self, x):\n",
        "        return self.network(x)"
      ],
      "metadata": {
        "id": "XG5WOidfzUm2"
      },
      "execution_count": null,
      "outputs": []
    },
    {
      "cell_type": "markdown",
      "source": [
        "## Define Hyperparameters\n",
        "\n",
        "We need to define some hyperparameters to train our agent. Instead of just blindly creating variables, we will organize our configurations in a `dataclass` decorator. This allows our hyperparameters to be in one place."
      ],
      "metadata": {
        "id": "ThZri9Xu05mN"
      }
    },
    {
      "cell_type": "code",
      "source": [
        "@dataclass\n",
        "class Config:\n",
        "    \"\"\"\n",
        "    Configuration class defining hyperparameters and environment properties.\n",
        "\n",
        "    Attributes:\n",
        "        - batch_size (int): The size of each mini-batch for training.\n",
        "        - gamma (float): The discount factor determining the importance of future rewards.\n",
        "        - eps_start (float): The starting exploration rate for epsilon-greedy action selection.\n",
        "        - eps_end (float): The final exploration rate for epsilon-greedy action selection.\n",
        "        - eps_decay (int): The rate at which the exploration rate decays.\n",
        "        - tau (float): The factor determining the update rate of target network parameters.\n",
        "        - lr (float): The learning rate for the optimizer.\n",
        "        - n_actions (int): The number of possible actions in the environment's action space.\n",
        "        - n_observations (int): The number of observations in the environment's state space.\n",
        "        - num_episodes (int): The number of episodes to train our agent.\n",
        "    \"\"\"\n",
        "    batch_size: int\n",
        "    gamma: float\n",
        "    eps_start: float\n",
        "    eps_end: float\n",
        "    eps_decay: int\n",
        "    tau: float\n",
        "    lr: float\n",
        "    n_actions: int\n",
        "    n_observations: int\n",
        "    num_episodes: int\n",
        "\n",
        "# Create config instance with specified values\n",
        "configs = Config(\n",
        "    batch_size=128,\n",
        "    gamma=0.99,\n",
        "    eps_start=1.0,\n",
        "    eps_end=0.05,\n",
        "    eps_decay=1000,\n",
        "    tau=1e-3,\n",
        "    lr=1e-3,\n",
        "    n_actions=env.action_space.n,\n",
        "    n_observations=env.observation_space.shape[0],\n",
        "    num_episodes=600\n",
        ")\n",
        "\n",
        "print(configs)"
      ],
      "metadata": {
        "id": "pvYKbacj1NN1",
        "colab": {
          "base_uri": "https://localhost:8080/"
        },
        "outputId": "574c09d1-e99f-4da0-c027-34ae18ff061b"
      },
      "execution_count": null,
      "outputs": [
        {
          "output_type": "stream",
          "name": "stdout",
          "text": [
            "Config(batch_size=128, gamma=0.99, eps_start=1.0, eps_end=0.05, eps_decay=1000, tau=0.001, lr=0.001, n_actions=2, n_observations=4, num_episodes=600)\n"
          ]
        }
      ]
    },
    {
      "cell_type": "markdown",
      "source": [
        "## Define Policy and Target Network\n",
        "\n",
        "We will define our policy and target networks. Remember, during initialization, target networks are simply a copy of policy network. We will also initialize our optimizer, memory, and define our loss criterion (MSE)."
      ],
      "metadata": {
        "id": "6EJVZB4V2qzU"
      }
    },
    {
      "cell_type": "code",
      "source": [
        "# Define Networks\n",
        "policy_net = DQN(configs.n_observations, configs.n_actions).to(device)\n",
        "target_net = deepcopy(policy_net)\n",
        "\n",
        "# Define Policy Network Optimizer\n",
        "optimizer = optim.Adam(policy_net.parameters(), lr=configs.lr)\n",
        "\n",
        "# Intialize memory\n",
        "memory = ReplayMemory(10000)\n",
        "\n",
        "# Define criterion\n",
        "criterion = nn.MSELoss()"
      ],
      "metadata": {
        "id": "2ow9gvDK3EVc"
      },
      "execution_count": null,
      "outputs": []
    },
    {
      "cell_type": "markdown",
      "source": [
        "## Create Policy Network Tracker\n",
        "\n",
        "We will create a class that will track the best weights corresponding with the highest average total rewards for each evaluation simulation after each training episode."
      ],
      "metadata": {
        "id": "ieo-MnXFmobk"
      }
    },
    {
      "cell_type": "code",
      "source": [
        "class PolicyTracker:\n",
        "    \"\"\"\n",
        "    A utility class for tracking and managing the training progress of a Deep Q-Network (DQN) policy.\n",
        "\n",
        "    Attributes:\n",
        "    - best_model (torch.nn.Module): A deep copy of the DQN representing the best-performing policy.\n",
        "    - net (torch.nn.Module): The current DQN model being trained.\n",
        "    - best_episode (int or None): The episode number where the best-performing policy was achieved.\n",
        "    - best_episode_value (float): The evaluation reward achieved by the best-performing policy.\n",
        "    - current_episode (int): The current training episode counter.\n",
        "\n",
        "    Methods:\n",
        "    - __call__(eval_rewards): Update the tracker with the evaluation rewards of the current episode.\n",
        "    - restore_best_policy_weights(verbose=True): Restore the DQN weights to the best-performing policy.\n",
        "    - reset_episode_counter(): Reset the current training episode counter to zero.\n",
        "\n",
        "    Example Usage:\n",
        "    ```python\n",
        "    # Create an instance of PolicyTracker with a DQN model\n",
        "    policy_tracker = PolicyTracker(my_dqn_model)\n",
        "\n",
        "    # During training, update the tracker with evaluation rewards\n",
        "    policy_tracker(evaluation_rewards)\n",
        "\n",
        "    # If a new best policy is found, restore its weights\n",
        "    policy_tracker.restore_best_policy_weights()\n",
        "\n",
        "    # Reset the episode counter if needed\n",
        "    policy_tracker.reset_episode_counter()\n",
        "    ```\n",
        "    \"\"\"\n",
        "    def __init__(self, policy_net):\n",
        "        self.best_model = deepcopy(policy_net)\n",
        "        self.net = policy_net\n",
        "        self.best_episode = None\n",
        "        self.best_episode_value = 0\n",
        "        self.current_episode = 0\n",
        "\n",
        "    def __call__(self, eval_rewards):\n",
        "        self.current_episode += 1\n",
        "        if eval_rewards > self.best_episode_value:\n",
        "            self.best_model.load_state_dict(self.net.state_dict())\n",
        "            self.best_episode = self.current_episode\n",
        "            self.best_episode_value = eval_rewards\n",
        "\n",
        "    def restore_best_policy_weights(self, verbose=True):\n",
        "        self.net.load_state_dict(self.best_model.state_dict())\n",
        "        if verbose:\n",
        "            print(f'Restoring best weights from training episode {self.best_episode}.')\n",
        "\n",
        "    def reset_episode_counter(self):\n",
        "        self.current_episode = 0"
      ],
      "metadata": {
        "id": "X_9JnQ7jZFI-"
      },
      "execution_count": null,
      "outputs": []
    },
    {
      "cell_type": "markdown",
      "source": [
        "## Train Agent"
      ],
      "metadata": {
        "id": "Dk4Cf6283l6x"
      }
    },
    {
      "cell_type": "markdown",
      "source": [
        "### Create Math Functions for Training\n",
        "\n",
        "We will create a utility class that will have three static methods that we will need to use for training: A method for soft updating our target network, a method to calculate epsilon, and a method to compute expected q values using the bellman equation."
      ],
      "metadata": {
        "id": "25RXohBnekUH"
      }
    },
    {
      "cell_type": "code",
      "source": [
        "class RLUtils:\n",
        "    @staticmethod\n",
        "    def soft_update(target_net, policy_net, tau):\n",
        "        \"\"\"\n",
        "        Soft update target network parameters.\n",
        "\n",
        "        Parameters:\n",
        "        - target_net: Target neural network\n",
        "        - policy_net: Policy neural network\n",
        "        - tau: Interpolation factor\n",
        "        \"\"\"\n",
        "        target_net_params = target_net.state_dict()\n",
        "        policy_net_params = policy_net.state_dict()\n",
        "\n",
        "        for key in policy_net_params:\n",
        "            target_net_params[key] = policy_net_params[key] * tau + target_net_params[key] * (1 - tau)\n",
        "\n",
        "        target_net.load_state_dict(target_net_params)\n",
        "\n",
        "    @staticmethod\n",
        "    def calculate_epsilon(eps_start, eps_end, eps_decay, steps_done):\n",
        "        \"\"\"\n",
        "        Calculate epsilon for epsilon-greedy exploration.\n",
        "\n",
        "        Parameters:\n",
        "        - eps_start: Initial exploration factor\n",
        "        - eps_end: Final (minimum) exploration factor\n",
        "        - eps_decay: Decay rate for exploration factor\n",
        "        - steps_done: Number of steps or iterations\n",
        "\n",
        "        Returns:\n",
        "        - epsilon: Current exploration factor\n",
        "        \"\"\"\n",
        "        eps_threshold = eps_end + (eps_start - eps_end) * math.exp(-1. * steps_done / eps_decay)\n",
        "        return eps_threshold\n",
        "\n",
        "    @staticmethod\n",
        "    def compute_expected_q_values(reward_batch, next_state_values, gamma):\n",
        "        \"\"\"\n",
        "        Compute expected Q values using the Bellman equation.\n",
        "\n",
        "        Parameters:\n",
        "        - reward_batch: Immediate rewards observed in the current state\n",
        "        - next_state_values: Estimated values of the next state based on Q-network\n",
        "        - gamma: Discount factor\n",
        "\n",
        "        Returns:\n",
        "        - expected_state_action_values: Expected Q values\n",
        "        \"\"\"\n",
        "        expected_state_action_values = reward_batch + (gamma * next_state_values)\n",
        "        return expected_state_action_values"
      ],
      "metadata": {
        "id": "quJCXRATeqjg"
      },
      "execution_count": null,
      "outputs": []
    },
    {
      "cell_type": "markdown",
      "source": [
        "### Create Agent Class\n",
        "\n",
        "We will create a class called `Agent` where we can implement our training and evaulation methods for our agent. Our agent at the least should be able to select an action, train our agent via looping through episodes and optimizing our networks, and evaluate our network without gradient computation."
      ],
      "metadata": {
        "id": "knMatU44fToj"
      }
    },
    {
      "cell_type": "code",
      "source": [
        "class Agent:\n",
        "    \"\"\"\n",
        "    Initializes a Deep Q Network (DQN) agent.\n",
        "\n",
        "    Parameters:\n",
        "    - env: The environment in which the agent interacts.\n",
        "    - policy_net (torch.nn.Module): The neural network representing the agent's policy.\n",
        "    - target_net (torch.nn.Module): The target neural network used for Q-value target estimation.\n",
        "    - optimizer (torch.optim): The optimizer used for updating the policy network.\n",
        "    - criterion (torch.nn.modules.loss): The loss criterion for training the policy network.\n",
        "    - memory: Replay buffer for storing and sampling experiences.\n",
        "    - training_configs: Configuration parameters for the training process.\n",
        "    - device (torch.device): The device (CPU or GPU) on which the agent operates.\n",
        "\n",
        "    Attributes:\n",
        "    - env: The environment in which the agent interacts.\n",
        "    - policy_net (torch.nn.Module): The neural network representing the agent's policy.\n",
        "    - target_net (torch.nn.Module): The target neural network used for Q-value target estimation.\n",
        "    - optimizer (torch.optim): The optimizer used for updating the policy network.\n",
        "    - criterion (torch.nn.modules.loss): The loss criterion for training the policy network.\n",
        "    - memory: Replay buffer for storing and sampling experiences.\n",
        "    - training_configs: Configuration parameters for the training process.\n",
        "    - device (torch.device): The device (CPU or GPU) on which the agent operates.\n",
        "    - steps_done: Counter for the total number of agent steps taken.\n",
        "    - episode_rewards: List to store rewards of completed episodes.\n",
        "    - policy_tracker: Utility class for tracking and managing the training progress.\n",
        "\n",
        "    Methods:\n",
        "    - _optimize():\n",
        "        Performs optimization on the policy network using a mini-batch of experiences.\n",
        "        This method is called during the training process.\n",
        "\n",
        "    - train(plot_training=True, restore_best_weights=False):\n",
        "        Executes the training loop for a specified number of episodes.\n",
        "\n",
        "    - evaluate(num_episodes=10, return_df=False, verbose=True):\n",
        "        Evaluates the trained DQN agent over a specified number of episodes.\n",
        "\n",
        "    - plot_training():\n",
        "        Plots training rewards for each episode.\n",
        "\n",
        "    Example Usage:\n",
        "    ```python\n",
        "    # Create an instance of Agent\n",
        "    my_agent = Agent(env, policy_net, target_net, optimizer, criterion, memory, training_configs, device)\n",
        "\n",
        "    # Train the agent\n",
        "    my_agent.train()\n",
        "\n",
        "    # Evaluate the trained agent\n",
        "    avg_rewards = my_agent.evaluate(num_episodes=5, verbose=True)\n",
        "    ```\n",
        "    \"\"\"\n",
        "    def __init__(self, env, policy_net, target_net, optimizer, criterion,\n",
        "                 memory, training_configs, device):\n",
        "        self.env = env\n",
        "        self.policy_net = policy_net\n",
        "        self.target_net = target_net\n",
        "        self.optimizer = optimizer\n",
        "        self.criterion = criterion\n",
        "        self.memory = memory\n",
        "        self.training_configs = training_configs\n",
        "        self.device = device\n",
        "        self.steps_done = 0\n",
        "        self.episode_rewards = []\n",
        "        self.policy_tracker = PolicyTracker(policy_net)\n",
        "\n",
        "    def select_action(self, state, training=False):\n",
        "        \"\"\"\n",
        "        Selects an action using an epsilon-greedy method.\n",
        "\n",
        "        Parameters:\n",
        "            - state: The current state of the environment.\n",
        "            - training: Boolean telling if it is in training or not. False by defualt.\n",
        "        \"\"\"\n",
        "        # Get parameters from training configs\n",
        "        eps_start = self.training_configs.eps_start\n",
        "        eps_end = self.training_configs.eps_end\n",
        "        eps_decay = self.training_configs.eps_decay\n",
        "\n",
        "        # Sample random floating point number\n",
        "        r = random.random()\n",
        "\n",
        "        # Decay epsilon\n",
        "        eps_threshold = RLUtils.calculate_epsilon(\n",
        "            eps_start=eps_start,\n",
        "            eps_end=eps_end,\n",
        "            eps_decay=eps_decay,\n",
        "            steps_done=self.steps_done\n",
        "        )\n",
        "\n",
        "        if training:\n",
        "            self.steps_done += 1\n",
        "\n",
        "        # Epsilon-greedy strategy\n",
        "        if r > eps_threshold:\n",
        "            with torch.no_grad():\n",
        "                # Get the index of the action with the maximum value\n",
        "                return self.policy_net(state).argmax(1).view(1, 1)\n",
        "        else:\n",
        "            return torch.tensor(self.env.action_space.sample(),\n",
        "                                device=self.device).view(1, 1)\n",
        "\n",
        "    def _optimize(self):\n",
        "        \"\"\"\n",
        "        Performs optimization on the policy network using a mini-batch of experiences.\n",
        "        \"\"\"\n",
        "        if len(self.memory) < self.training_configs.batch_size:\n",
        "            return None\n",
        "\n",
        "        # Sample a random batch\n",
        "        transitions = self.memory.sample(self.training_configs.batch_size)\n",
        "\n",
        "        # Transpose the batch into named tuple format\n",
        "        batch = Transition(*zip(*transitions))\n",
        "\n",
        "        # Compute a mask of non-terminal states\n",
        "        non_terminal_mask = torch.tensor(tuple(map(lambda s: s is not None, batch.next_state)), device=self.device)\n",
        "\n",
        "        # Compute a mask of non-terminal next states\n",
        "        non_terminal_next_states = torch.cat([s for s in batch.next_state if s is not None])\n",
        "\n",
        "        # Concat the batch elements\n",
        "        state_batch = torch.cat(batch.state)\n",
        "        action_batch = torch.cat(batch.action)\n",
        "        reward_batch = torch.cat(batch.reward)\n",
        "\n",
        "        # Compute state-action values\n",
        "        state_action_values = self.policy_net(state_batch).gather(1, action_batch)\n",
        "\n",
        "        # Get next state values\n",
        "        with torch.no_grad():\n",
        "            next_state_values = torch.zeros(self.training_configs.batch_size, device=self.device)\n",
        "            next_state_values[non_terminal_mask] = self.target_net(non_terminal_next_states).max(1).values\n",
        "\n",
        "        # Compute the expected Q values with Bellman equation\n",
        "        expected_state_action_values = RLUtils.compute_expected_q_values(\n",
        "            reward_batch,\n",
        "            next_state_values,\n",
        "            self.training_configs.gamma\n",
        "        )\n",
        "\n",
        "        # Compute loss\n",
        "        loss = self.criterion(state_action_values, expected_state_action_values.unsqueeze(1))\n",
        "\n",
        "        # Optimize model\n",
        "        self.optimizer.zero_grad()\n",
        "        loss.backward()\n",
        "        torch.nn.utils.clip_grad_norm_(self.policy_net.parameters(), 100)\n",
        "        self.optimizer.step()\n",
        "\n",
        "    def train(self, plot_training=True, restore_best_weights=False):\n",
        "        \"\"\"\n",
        "        Executes the training loop for a specified number of episodes.\n",
        "\n",
        "        Parameters:\n",
        "            - plot_training (bool): Plots training episodes after training loop.\n",
        "            - restore_best_weights (bool): Restores best weights after training.\n",
        "        \"\"\"\n",
        "        for episode in tqdm(range(self.training_configs.num_episodes)):\n",
        "            # Set networks in train mode\n",
        "            self.policy_net.train()\n",
        "            self.target_net.train()\n",
        "\n",
        "            # Intialize rewards counter\n",
        "            total_rewards = 0\n",
        "\n",
        "            # Initialize environment and get the state\n",
        "            state, _ = self.env.reset()\n",
        "            state = torch.tensor(state, device=self.device).unsqueeze(0)\n",
        "\n",
        "            while True:\n",
        "                # Select an action and perform the action\n",
        "                action = self.select_action(state, training=True)\n",
        "                observation, reward, terminated, truncated, _ = self.env.step(action.item())\n",
        "                done = truncated or terminated\n",
        "\n",
        "                # Accumulate rewards\n",
        "                total_rewards += reward\n",
        "\n",
        "                # Convert reward into a tensor\n",
        "                reward = torch.tensor([reward], device=self.device)\n",
        "\n",
        "                if terminated:\n",
        "                    next_state = None\n",
        "                else:\n",
        "                    next_state = torch.tensor(observation, device=self.device).unsqueeze(0)\n",
        "\n",
        "                # Store transtion in memory\n",
        "                self.memory.push(state, action, reward, next_state)\n",
        "\n",
        "                # s_t -> s_{t+1}\n",
        "                state = next_state\n",
        "\n",
        "                # One step optimization on policy network\n",
        "                self._optimize()\n",
        "\n",
        "                # Soft update target net parameters\n",
        "                RLUtils.soft_update(\n",
        "                    self.target_net,\n",
        "                    self.policy_net,\n",
        "                    self.training_configs.tau\n",
        "                )\n",
        "\n",
        "                if done:\n",
        "                    self.episode_rewards.append(total_rewards)\n",
        "\n",
        "                    # Apply policy tracker\n",
        "                    eval_rewards = self.evaluate(verbose=False)\n",
        "                    self.policy_tracker(eval_rewards)\n",
        "\n",
        "                    # Break loop\n",
        "                    break\n",
        "\n",
        "        if plot_training:\n",
        "            self.plot_training()\n",
        "\n",
        "        if restore_best_weights:\n",
        "            self.policy_tracker.restore_best_policy_weights()\n",
        "\n",
        "    @torch.no_grad()\n",
        "    def evaluate(self, num_episodes=10, return_df=False, verbose=True):\n",
        "        \"\"\"\n",
        "        Evaluates the trained DQN agent over a specified number of episodes.\n",
        "\n",
        "        Parameters:\n",
        "            - num_episodes (int): Number of episodes for evaluation.\n",
        "            - return_df (bool): Returns dataframe of episodic results if True.\n",
        "            - verbose (bool): Prints simulation results if True.\n",
        "        \"\"\"\n",
        "        episode_rewards = []\n",
        "\n",
        "        # Put networks into evaluation mode\n",
        "        self.policy_net.eval()\n",
        "        self.target_net.eval()\n",
        "        for episode in range(num_episodes):\n",
        "            state, _ = self.env.reset()\n",
        "            state = torch.tensor(state, device=self.device).unsqueeze(0)\n",
        "            total_rewards = 0\n",
        "\n",
        "            while True:\n",
        "                action = self.select_action(state)\n",
        "                observation, reward, terminated, truncated, _ = self.env.step(action.item())\n",
        "                done = truncated or terminated\n",
        "\n",
        "                # Accumulate rewards\n",
        "                total_rewards += reward\n",
        "\n",
        "                if done:\n",
        "                    episode_rewards.append(total_rewards)\n",
        "                    break\n",
        "\n",
        "                state = torch.tensor(observation, device=self.device).unsqueeze(0)\n",
        "\n",
        "        # Print or log evaluation results\n",
        "        df = pd.DataFrame(\n",
        "            list(zip(np.arange(num_episodes)+1, episode_rewards)),\n",
        "            columns=['Episode', 'Sum of Rewards']\n",
        "        )\n",
        "        avg_total_rewards = sum(episode_rewards) / num_episodes\n",
        "\n",
        "        if verbose:\n",
        "            print(tabulate(df, tablefmt='pretty', headers='keys', showindex=False))\n",
        "            print(f'Average total rewards over {num_episodes} episodes: {avg_total_rewards}')\n",
        "\n",
        "        if return_df:\n",
        "            return avg_total_rewards, df\n",
        "        else:\n",
        "            return avg_total_rewards\n",
        "\n",
        "    def plot_training(self):\n",
        "        \"\"\"\n",
        "        Plots training rewards for each episode.\n",
        "        \"\"\"\n",
        "        plt.plot(self.episode_rewards)\n",
        "        plt.xlabel('Episode')\n",
        "        plt.ylabel('Sum of Rewards')\n",
        "        plt.title('Episode Rewards')\n",
        "        plt.show()"
      ],
      "metadata": {
        "id": "xB7I87T34miZ"
      },
      "execution_count": null,
      "outputs": []
    },
    {
      "cell_type": "markdown",
      "source": [
        "### Intialize Agent\n",
        "\n",
        "We will initialize our agent using our `Agent` class."
      ],
      "metadata": {
        "id": "09Ue7ohufZl9"
      }
    },
    {
      "cell_type": "code",
      "source": [
        "# Create agent instance\n",
        "agent = Agent(\n",
        "    env=env,\n",
        "    policy_net=policy_net,\n",
        "    target_net=target_net,\n",
        "    optimizer=optimizer,\n",
        "    criterion=criterion,\n",
        "    memory=memory,\n",
        "    training_configs=configs,\n",
        "    device=device\n",
        ")\n",
        "\n",
        "# Get an initial evaluation\n",
        "_ = agent.evaluate()"
      ],
      "metadata": {
        "colab": {
          "base_uri": "https://localhost:8080/"
        },
        "id": "wWz3VW3Bd7_k",
        "outputId": "f129fc4b-32ef-46f6-bba0-54f9717358a7"
      },
      "execution_count": null,
      "outputs": [
        {
          "output_type": "stream",
          "name": "stdout",
          "text": [
            "+---------+----------------+\n",
            "| Episode | Sum of Rewards |\n",
            "+---------+----------------+\n",
            "|   1.0   |      11.0      |\n",
            "|   2.0   |      13.0      |\n",
            "|   3.0   |      10.0      |\n",
            "|   4.0   |      10.0      |\n",
            "|   5.0   |      18.0      |\n",
            "|   6.0   |      9.0       |\n",
            "|   7.0   |      22.0      |\n",
            "|   8.0   |      12.0      |\n",
            "|   9.0   |      48.0      |\n",
            "|  10.0   |      20.0      |\n",
            "+---------+----------------+\n",
            "Average total rewards over 10 episodes: 17.3\n"
          ]
        }
      ]
    },
    {
      "cell_type": "markdown",
      "source": [
        "### Train Agent\n",
        "\n",
        "We will use the `train()` method to train our agent."
      ],
      "metadata": {
        "id": "wfJLiwvxOHPl"
      }
    },
    {
      "cell_type": "code",
      "source": [
        "agent.train(restore_best_weights=True)"
      ],
      "metadata": {
        "colab": {
          "base_uri": "https://localhost:8080/",
          "height": 614,
          "referenced_widgets": [
            "924f84b19c0b4291932a88673200101f",
            "ee652b1ef6b54b48b7ba86eb56bb48b0",
            "4a21add196d04ccab5935b523e251b81",
            "47cfbde36ee84a43a7e7f1c978b75f6c",
            "e98572fb466948769791ecbe4fbaa95c",
            "c53bd4fd9eff4a52ad2f1581387764bb",
            "71f0b764b5124744a581c7317d8cf498",
            "da5cb5fb84f844ddb887b8740f1226a8",
            "39f826906ede4c14bd922b9209b5e212",
            "cf138ba112f04964a790faff071ff9df",
            "9d0cd0757bee4f669088cb6ed38f6b93"
          ]
        },
        "id": "mHEAXiDafFgM",
        "outputId": "37d336c1-f6de-4db5-908f-33fc72ed1a85"
      },
      "execution_count": null,
      "outputs": [
        {
          "output_type": "display_data",
          "data": {
            "text/plain": [
              "  0%|          | 0/600 [00:00<?, ?it/s]"
            ],
            "application/vnd.jupyter.widget-view+json": {
              "version_major": 2,
              "version_minor": 0,
              "model_id": "924f84b19c0b4291932a88673200101f"
            }
          },
          "metadata": {}
        },
        {
          "output_type": "display_data",
          "data": {
            "text/plain": [
              "<Figure size 1000x600 with 1 Axes>"
            ],
            "image/png": "[encoded data removed]"
          },
          "metadata": {}
        },
        {
          "output_type": "stream",
          "name": "stdout",
          "text": [
            "Restoring best weights from training episode 504.\n"
          ]
        }
      ]
    },
    {
      "cell_type": "markdown",
      "source": [
        "### Evaluate Agent"
      ],
      "metadata": {
        "id": "I3BZpojZaw9d"
      }
    },
    {
      "cell_type": "code",
      "source": [
        "_ = agent.evaluate()"
      ],
      "metadata": {
        "id": "SmazmHYocSYf",
        "colab": {
          "base_uri": "https://localhost:8080/"
        },
        "outputId": "3ef75674-4fb3-497e-cde0-f65261aee7a5"
      },
      "execution_count": null,
      "outputs": [
        {
          "output_type": "stream",
          "name": "stdout",
          "text": [
            "+---------+----------------+\n",
            "| Episode | Sum of Rewards |\n",
            "+---------+----------------+\n",
            "|   1.0   |     500.0      |\n",
            "|   2.0   |     500.0      |\n",
            "|   3.0   |     500.0      |\n",
            "|   4.0   |     500.0      |\n",
            "|   5.0   |     500.0      |\n",
            "|   6.0   |     500.0      |\n",
            "|   7.0   |     500.0      |\n",
            "|   8.0   |     500.0      |\n",
            "|   9.0   |     500.0      |\n",
            "|  10.0   |     500.0      |\n",
            "+---------+----------------+\n",
            "Average total rewards over 10 episodes: 500.0\n"
          ]
        }
      ]
    },
    {
      "cell_type": "markdown",
      "source": [
        "We can see that through training, we can see our agent improved its strategy and performance of Cart Pole through training. We see this in the increase in episode rewards during our evaluation episodes. The maximum reward per episode that the environment offers is 500 (500 time steps). We are reaching this reward on most of our simulation runs!"
      ],
      "metadata": {
        "id": "SMNoaZbKfmn_"
      }
    },
    {
      "cell_type": "markdown",
      "source": [
        "## Solve Problem\n",
        "\n",
        "We will now see if we \"solved\" the original problem (average greater than or equal 195.0 total rewards over 100 consecutive episodes)."
      ],
      "metadata": {
        "id": "h_wUaBbxXgxc"
      }
    },
    {
      "cell_type": "code",
      "source": [
        "average_total = agent.evaluate(100, verbose=False)\n",
        "print(f'Average total rewards for 100 episodes: {average_total}\\nSolved: {average_total >= 195.0}')"
      ],
      "metadata": {
        "colab": {
          "base_uri": "https://localhost:8080/"
        },
        "id": "mfBRD01VXuNr",
        "outputId": "af637139-c052-4cd8-a73a-f74e399e1519"
      },
      "execution_count": null,
      "outputs": [
        {
          "output_type": "stream",
          "name": "stdout",
          "text": [
            "Average total rewards for 100 episodes: 496.87\n",
            "Solved: True\n"
          ]
        }
      ]
    },
    {
      "cell_type": "markdown",
      "source": [
        "> **[Click to Access Course Homepage](https://github.com/danplotkin/mastering_rl/tree/main?tab=readme-ov-file#mastering-reinforcement-learning-theory-math-and-python)**"
      ],
      "metadata": {
        "id": "57lxLHpHxSTm"
      }
    }
  ]
}